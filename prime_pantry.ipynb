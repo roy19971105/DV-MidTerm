{
 "cells": [
  {
   "cell_type": "code",
   "execution_count": 2,
   "metadata": {
    "ExecuteTime": {
     "end_time": "2019-11-03T10:33:13.871783Z",
     "start_time": "2019-11-03T10:33:07.136124Z"
    }
   },
   "outputs": [],
   "source": [
    "import json\n",
    "import pandas as pd\n",
    "import matplotlib.pyplot as plot"
   ]
  },
  {
   "cell_type": "code",
   "execution_count": 3,
   "metadata": {
    "ExecuteTime": {
     "end_time": "2019-11-03T10:33:37.960792Z",
     "start_time": "2019-11-03T10:33:13.897424Z"
    }
   },
   "outputs": [],
   "source": [
    "#initialise dataset\n",
    "f1 = \"Prime_Pantry.json\"\n",
    "df = pd.io.json.json_normalize([json.loads(line) for line in open(f1)])"
   ]
  },
  {
   "cell_type": "markdown",
   "metadata": {
    "ExecuteTime": {
     "end_time": "2019-10-30T22:15:25.772274Z",
     "start_time": "2019-10-30T22:15:25.750329Z"
    }
   },
   "source": [
    "## Drop Prime_pantry column"
   ]
  },
  {
   "cell_type": "code",
   "execution_count": 18,
   "metadata": {
    "ExecuteTime": {
     "end_time": "2019-11-03T13:03:17.215165Z",
     "start_time": "2019-11-03T13:01:46.170325Z"
    },
    "scrolled": true
   },
   "outputs": [
    {
     "data": {
      "text/html": [
       "<div>\n",
       "<style scoped>\n",
       "    .dataframe tbody tr th:only-of-type {\n",
       "        vertical-align: middle;\n",
       "    }\n",
       "\n",
       "    .dataframe tbody tr th {\n",
       "        vertical-align: top;\n",
       "    }\n",
       "\n",
       "    .dataframe thead th {\n",
       "        text-align: right;\n",
       "    }\n",
       "</style>\n",
       "<table border=\"1\" class=\"dataframe\">\n",
       "  <thead>\n",
       "    <tr style=\"text-align: right;\">\n",
       "      <th></th>\n",
       "      <th>overall</th>\n",
       "      <th>asin</th>\n",
       "      <th>ReviewTime</th>\n",
       "    </tr>\n",
       "  </thead>\n",
       "  <tbody>\n",
       "    <tr>\n",
       "      <th>0</th>\n",
       "      <td>5.0</td>\n",
       "      <td>B0000DIWNZ</td>\n",
       "      <td>2014-12-14</td>\n",
       "    </tr>\n",
       "    <tr>\n",
       "      <th>1</th>\n",
       "      <td>4.0</td>\n",
       "      <td>B0000DIWNZ</td>\n",
       "      <td>2014-11-20</td>\n",
       "    </tr>\n",
       "    <tr>\n",
       "      <th>2</th>\n",
       "      <td>4.0</td>\n",
       "      <td>B0000DIWNZ</td>\n",
       "      <td>2014-10-11</td>\n",
       "    </tr>\n",
       "    <tr>\n",
       "      <th>3</th>\n",
       "      <td>3.0</td>\n",
       "      <td>B0000DIWNZ</td>\n",
       "      <td>2014-09-01</td>\n",
       "    </tr>\n",
       "    <tr>\n",
       "      <th>4</th>\n",
       "      <td>4.0</td>\n",
       "      <td>B0000DIWNZ</td>\n",
       "      <td>2014-08-10</td>\n",
       "    </tr>\n",
       "  </tbody>\n",
       "</table>\n",
       "</div>"
      ],
      "text/plain": [
       "   overall        asin ReviewTime\n",
       "0      5.0  B0000DIWNZ 2014-12-14\n",
       "1      4.0  B0000DIWNZ 2014-11-20\n",
       "2      4.0  B0000DIWNZ 2014-10-11\n",
       "3      3.0  B0000DIWNZ 2014-09-01\n",
       "4      4.0  B0000DIWNZ 2014-08-10"
      ]
     },
     "execution_count": 18,
     "metadata": {},
     "output_type": "execute_result"
    }
   ],
   "source": [
    "#select key columns\n",
    "df1 = df.loc[:, ['overall','reviewTime','asin']]\n",
    "\n",
    "#change reviewTime to timestamp\n",
    "df1['ReviewTime'] = pd.to_datetime(df1.reviewTime)\n",
    "df1.drop('reviewTime',axis = 1, inplace = True)\n",
    "\n",
    "df1.head()\n"
   ]
  },
  {
   "cell_type": "markdown",
   "metadata": {
    "ExecuteTime": {
     "end_time": "2019-10-30T22:44:59.836190Z",
     "start_time": "2019-10-30T22:44:59.821228Z"
    }
   },
   "source": [
    "## Filter reviews by Time-series in first 6 months"
   ]
  },
  {
   "cell_type": "code",
   "execution_count": 30,
   "metadata": {
    "ExecuteTime": {
     "end_time": "2019-11-03T13:55:39.455300Z",
     "start_time": "2019-11-03T13:55:39.051489Z"
    }
   },
   "outputs": [
    {
     "data": {
      "text/html": [
       "<div>\n",
       "<style scoped>\n",
       "    .dataframe tbody tr th:only-of-type {\n",
       "        vertical-align: middle;\n",
       "    }\n",
       "\n",
       "    .dataframe tbody tr th {\n",
       "        vertical-align: top;\n",
       "    }\n",
       "\n",
       "    .dataframe thead th {\n",
       "        text-align: right;\n",
       "    }\n",
       "</style>\n",
       "<table border=\"1\" class=\"dataframe\">\n",
       "  <thead>\n",
       "    <tr style=\"text-align: right;\">\n",
       "      <th></th>\n",
       "      <th>overall</th>\n",
       "      <th>asin</th>\n",
       "      <th>ReviewTime</th>\n",
       "    </tr>\n",
       "  </thead>\n",
       "  <tbody>\n",
       "    <tr>\n",
       "      <th>72</th>\n",
       "      <td>4.0</td>\n",
       "      <td>B0000GH6UG</td>\n",
       "      <td>2004-01-10</td>\n",
       "    </tr>\n",
       "    <tr>\n",
       "      <th>121323</th>\n",
       "      <td>4.0</td>\n",
       "      <td>B00ICZZCEE</td>\n",
       "      <td>2004-05-13</td>\n",
       "    </tr>\n",
       "    <tr>\n",
       "      <th>78849</th>\n",
       "      <td>5.0</td>\n",
       "      <td>B004AH51VW</td>\n",
       "      <td>2004-06-11</td>\n",
       "    </tr>\n",
       "    <tr>\n",
       "      <th>159152</th>\n",
       "      <td>5.0</td>\n",
       "      <td>B00NMPN1JC</td>\n",
       "      <td>2004-08-13</td>\n",
       "    </tr>\n",
       "    <tr>\n",
       "      <th>167367</th>\n",
       "      <td>5.0</td>\n",
       "      <td>B00NO0CTK2</td>\n",
       "      <td>2004-12-28</td>\n",
       "    </tr>\n",
       "    <tr>\n",
       "      <th>...</th>\n",
       "      <td>...</td>\n",
       "      <td>...</td>\n",
       "      <td>...</td>\n",
       "    </tr>\n",
       "    <tr>\n",
       "      <th>446448</th>\n",
       "      <td>5.0</td>\n",
       "      <td>B015FCJZXA</td>\n",
       "      <td>2018-06-30</td>\n",
       "    </tr>\n",
       "    <tr>\n",
       "      <th>460801</th>\n",
       "      <td>5.0</td>\n",
       "      <td>B01BLIQ6AW</td>\n",
       "      <td>2018-07-07</td>\n",
       "    </tr>\n",
       "    <tr>\n",
       "      <th>409947</th>\n",
       "      <td>5.0</td>\n",
       "      <td>B00SUC4CRW</td>\n",
       "      <td>2018-07-09</td>\n",
       "    </tr>\n",
       "    <tr>\n",
       "      <th>457321</th>\n",
       "      <td>5.0</td>\n",
       "      <td>B019TUC6P8</td>\n",
       "      <td>2018-07-10</td>\n",
       "    </tr>\n",
       "    <tr>\n",
       "      <th>459426</th>\n",
       "      <td>5.0</td>\n",
       "      <td>B0005YM4IC</td>\n",
       "      <td>2018-08-06</td>\n",
       "    </tr>\n",
       "  </tbody>\n",
       "</table>\n",
       "<p>10814 rows × 3 columns</p>\n",
       "</div>"
      ],
      "text/plain": [
       "        overall        asin ReviewTime\n",
       "72          4.0  B0000GH6UG 2004-01-10\n",
       "121323      4.0  B00ICZZCEE 2004-05-13\n",
       "78849       5.0  B004AH51VW 2004-06-11\n",
       "159152      5.0  B00NMPN1JC 2004-08-13\n",
       "167367      5.0  B00NO0CTK2 2004-12-28\n",
       "...         ...         ...        ...\n",
       "446448      5.0  B015FCJZXA 2018-06-30\n",
       "460801      5.0  B01BLIQ6AW 2018-07-07\n",
       "409947      5.0  B00SUC4CRW 2018-07-09\n",
       "457321      5.0  B019TUC6P8 2018-07-10\n",
       "459426      5.0  B0005YM4IC 2018-08-06\n",
       "\n",
       "[10814 rows x 3 columns]"
      ]
     },
     "execution_count": 30,
     "metadata": {},
     "output_type": "execute_result"
    }
   ],
   "source": []
  },
  {
   "cell_type": "code",
   "execution_count": 17,
   "metadata": {
    "ExecuteTime": {
     "end_time": "2019-11-03T12:46:04.481865Z",
     "start_time": "2019-11-03T12:46:04.475629Z"
    }
   },
   "outputs": [],
   "source": [
    "\n",
    "# Preperation: Ascendingly sort the timestamp with each asin. main sort,sub sort.主次分类\n",
    "\n",
    "# first step: slice the dataframe by the asin index\n",
    "\n",
    "# second step: in each slice, do below:\n",
    "#          if: 1. drop the entire product reviews which duration shorter than 6 months\n",
    "#          elif: 2. if keep the reviews within 6 months, \n",
    "#                   else drop the reviews exceed 6 months.\n",
    "#          print Dataframe\n"
   ]
  },
  {
   "cell_type": "code",
   "execution_count": null,
   "metadata": {},
   "outputs": [],
   "source": []
  }
 ],
 "metadata": {
  "kernelspec": {
   "display_name": "Python 3",
   "language": "python",
   "name": "python3"
  },
  "language_info": {
   "codemirror_mode": {
    "name": "ipython",
    "version": 3
   },
   "file_extension": ".py",
   "mimetype": "text/x-python",
   "name": "python",
   "nbconvert_exporter": "python",
   "pygments_lexer": "ipython3",
   "version": "3.7.4"
  },
  "toc": {
   "base_numbering": 1,
   "nav_menu": {},
   "number_sections": true,
   "sideBar": true,
   "skip_h1_title": false,
   "title_cell": "Table of Contents",
   "title_sidebar": "Contents",
   "toc_cell": false,
   "toc_position": {},
   "toc_section_display": true,
   "toc_window_display": false
  },
  "varInspector": {
   "cols": {
    "lenName": 16,
    "lenType": 16,
    "lenVar": 40
   },
   "kernels_config": {
    "python": {
     "delete_cmd_postfix": "",
     "delete_cmd_prefix": "del ",
     "library": "var_list.py",
     "varRefreshCmd": "print(var_dic_list())"
    },
    "r": {
     "delete_cmd_postfix": ") ",
     "delete_cmd_prefix": "rm(",
     "library": "var_list.r",
     "varRefreshCmd": "cat(var_dic_list()) "
    }
   },
   "position": {
    "height": "144px",
    "left": "379.4px",
    "right": "20px",
    "top": "120px",
    "width": "350px"
   },
   "types_to_exclude": [
    "module",
    "function",
    "builtin_function_or_method",
    "instance",
    "_Feature"
   ],
   "window_display": false
  }
 },
 "nbformat": 4,
 "nbformat_minor": 2
}
